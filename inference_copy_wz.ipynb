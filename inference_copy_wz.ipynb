{
 "cells": [
  {
   "cell_type": "code",
   "execution_count": 1,
   "metadata": {},
   "outputs": [
    {
     "name": "stderr",
     "output_type": "stream",
     "text": [
      "C:\\Users\\thomas\\anaconda3\\envs\\irdis_wz\\lib\\site-packages\\tqdm\\auto.py:22: TqdmWarning: IProgress not found. Please update jupyter and ipywidgets. See https://ipywidgets.readthedocs.io/en/stable/user_install.html\n",
      "  from .autonotebook import tqdm as notebook_tqdm\n"
     ]
    }
   ],
   "source": [
    "import os\n",
    "from pathlib import Path\n",
    "from fastai.learner import load_learner"
   ]
  },
  {
   "cell_type": "code",
   "execution_count": 2,
   "metadata": {},
   "outputs": [],
   "source": [
    "combined_img2 = Path('C:/Users/thomas/Desktop/irdis/AISpark_Challenge_IRDIS-main/AIHub/Training/train_buildings_data2')\n",
    "combined_mask2 = Path('C:/Users/thomas/Desktop/irdis/AISpark_Challenge_IRDIS-main/AIHub/Training/train_buildings_labeling3')\n",
    "def label_func(x:Path):\n",
    "    return f\"{combined_mask2}/{x.stem}.png\""
   ]
  },
  {
   "cell_type": "code",
   "execution_count": 3,
   "metadata": {},
   "outputs": [],
   "source": [
    "class CombinedLoss:\n",
    "    \"Dice and Focal combined\"\n",
    "    def __init__(self, axis=1, smooth=1., alpha=1.,gamma=3):\n",
    "        store_attr()\n",
    "        self.focal_loss = FocalLossFlat(axis=axis,gamma=gamma)\n",
    "        self.dice_loss =  DiceLoss(axis, smooth)\n",
    "\n",
    "    def __call__(self, pred, targ):\n",
    "        return self.focal_loss(pred, targ) + self.alpha * self.dice_loss(pred, targ)\n",
    "\n",
    "    def decodes(self, x):    return x.argmax(dim=self.axis)\n",
    "    def activation(self, x): return F.softmax(x, dim=self.axis)\n",
    "\n"
   ]
  },
  {
   "cell_type": "code",
   "execution_count": 4,
   "metadata": {},
   "outputs": [],
   "source": [
    "model_1_path = Path().resolve() / \"predict_footprint_fine_tuned\"\n",
    "model_2_path = Path().resolve() / \"predict_damage_unfrozen\"\n",
    "model_wz_path = Path().resolve() / \"predict_wz_footprint_fine_tuned\"\n",
    "\n",
    "predict_footprint = load_learner(model_1_path)\n",
    "predict_damage = load_learner(model_2_path)\n",
    "predict_footprint_wz = load_learner(model_wz_path)"
   ]
  },
  {
   "cell_type": "code",
   "execution_count": 5,
   "metadata": {},
   "outputs": [
    {
     "name": "stdout",
     "output_type": "stream",
     "text": [
      "True\n",
      "True\n"
     ]
    }
   ],
   "source": [
    "aftertif = 'inference_data/after/10300100C540A500_-90.021_29.89.tif'\n",
    "beforetif = 'inference_data/before/105001001E0A3300_-90.021_29.89.tif'\n",
    "print(os.path.isfile(aftertif))\n",
    "print(os.path.isfile(beforetif))"
   ]
  },
  {
   "cell_type": "code",
   "execution_count": null,
   "metadata": {},
   "outputs": [
    {
     "data": {
      "text/html": [
       "\n",
       "<style>\n",
       "    /* Turns off some styling */\n",
       "    progress {\n",
       "        /* gets rid of default border in Firefox and Opera. */\n",
       "        border: none;\n",
       "        /* Needs to be in here for Safari polyfill so background images work as expected. */\n",
       "        background-size: auto;\n",
       "    }\n",
       "    .progress-bar-interrupted, .progress-bar-interrupted::-webkit-progress-bar {\n",
       "        background: #F44336;\n",
       "    }\n",
       "</style>\n"
      ],
      "text/plain": [
       "<IPython.core.display.HTML object>"
      ]
     },
     "metadata": {},
     "output_type": "display_data"
    },
    {
     "data": {
      "text/html": [
       "\n",
       "    <div>\n",
       "      <progress value='0' class='' max='1' style='width:300px; height:20px; vertical-align: middle;'></progress>\n",
       "      0.00% [0/1 00:00<00:00]\n",
       "    </div>\n",
       "    "
      ],
      "text/plain": [
       "<IPython.core.display.HTML object>"
      ]
     },
     "metadata": {},
     "output_type": "display_data"
    }
   ],
   "source": [
    "result = predict_footprint.predict(item=beforetif)[0]"
   ]
  },
  {
   "cell_type": "code",
   "execution_count": null,
   "metadata": {},
   "outputs": [],
   "source": []
  }
 ],
 "metadata": {
  "interpreter": {
   "hash": "9a43424dec4ba061c29f13b13451ae4e83d2ee43d8246f0850f141cf3bc1fc3d"
  },
  "kernelspec": {
   "display_name": "irdis_wz",
   "language": "python",
   "name": "irdis_wz"
  },
  "language_info": {
   "codemirror_mode": {
    "name": "ipython",
    "version": 3
   },
   "file_extension": ".py",
   "mimetype": "text/x-python",
   "name": "python",
   "nbconvert_exporter": "python",
   "pygments_lexer": "ipython3",
   "version": "3.7.13"
  }
 },
 "nbformat": 4,
 "nbformat_minor": 2
}
